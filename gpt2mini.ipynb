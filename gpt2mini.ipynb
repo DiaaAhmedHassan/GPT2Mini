{
 "cells": [
  {
   "cell_type": "code",
   "execution_count": 1,
   "metadata": {
    "_cell_guid": "b1076dfc-b9ad-4769-8c92-a6c4dae69d19",
    "_uuid": "8f2839f25d086af736a60e9eeb907d3b93b6e0e5",
    "execution": {
     "iopub.execute_input": "2025-05-20T20:09:47.836215Z",
     "iopub.status.busy": "2025-05-20T20:09:47.836005Z",
     "iopub.status.idle": "2025-05-20T20:09:49.314859Z",
     "shell.execute_reply": "2025-05-20T20:09:49.314036Z",
     "shell.execute_reply.started": "2025-05-20T20:09:47.836198Z"
    },
    "trusted": true
   },
   "outputs": [],
   "source": [
    "# This Python 3 environment comes with many helpful analytics libraries installed\n",
    "# It is defined by the kaggle/python Docker image: https://github.com/kaggle/docker-python\n",
    "# For example, here's several helpful packages to load\n",
    "\n",
    "import numpy as np # linear algebra\n",
    "import pandas as pd # data processing, CSV file I/O (e.g. pd.read_csv)\n",
    "\n",
    "# Input data files are available in the read-only \"../input/\" directory\n",
    "# For example, running this (by clicking run or pressing Shift+Enter) will list all files under the input directory\n",
    "\n",
    "import os\n",
    "for dirname, _, filenames in os.walk('/kaggle/input'):\n",
    "    for filename in filenames:\n",
    "        print(os.path.join(dirname, filename))\n",
    "\n",
    "# You can write up to 20GB to the current directory (/kaggle/working/) that gets preserved as output when you create a version using \"Save & Run All\" \n",
    "# You can also write temporary files to /kaggle/temp/, but they won't be saved outside of the current session"
   ]
  },
  {
   "cell_type": "code",
   "execution_count": 2,
   "metadata": {
    "execution": {
     "iopub.execute_input": "2025-05-20T20:10:15.822185Z",
     "iopub.status.busy": "2025-05-20T20:10:15.821918Z",
     "iopub.status.idle": "2025-05-20T20:10:31.411561Z",
     "shell.execute_reply": "2025-05-20T20:10:31.410769Z",
     "shell.execute_reply.started": "2025-05-20T20:10:15.822165Z"
    },
    "trusted": true
   },
   "outputs": [
    {
     "data": {
      "application/vnd.jupyter.widget-view+json": {
       "model_id": "36acb1e1992548cb892cbd2f8c3a9cb2",
       "version_major": 2,
       "version_minor": 0
      },
      "text/plain": [
       "README.md:   0%|          | 0.00/1.06k [00:00<?, ?B/s]"
      ]
     },
     "metadata": {},
     "output_type": "display_data"
    },
    {
     "data": {
      "application/vnd.jupyter.widget-view+json": {
       "model_id": "ab83867f1c2349ed9b96d9dd2e6c69c3",
       "version_major": 2,
       "version_minor": 0
      },
      "text/plain": [
       "(…)-00000-of-00004-2d5a1467fff1081b.parquet:   0%|          | 0.00/249M [00:00<?, ?B/s]"
      ]
     },
     "metadata": {},
     "output_type": "display_data"
    },
    {
     "data": {
      "application/vnd.jupyter.widget-view+json": {
       "model_id": "59253bd72af847609c9382a466aa6310",
       "version_major": 2,
       "version_minor": 0
      },
      "text/plain": [
       "(…)-00001-of-00004-5852b56a2bd28fd9.parquet:   0%|          | 0.00/248M [00:00<?, ?B/s]"
      ]
     },
     "metadata": {},
     "output_type": "display_data"
    },
    {
     "data": {
      "application/vnd.jupyter.widget-view+json": {
       "model_id": "ce6b61caa50f4e58947fcc3022a300d5",
       "version_major": 2,
       "version_minor": 0
      },
      "text/plain": [
       "(…)-00002-of-00004-a26307300439e943.parquet:   0%|          | 0.00/246M [00:00<?, ?B/s]"
      ]
     },
     "metadata": {},
     "output_type": "display_data"
    },
    {
     "data": {
      "application/vnd.jupyter.widget-view+json": {
       "model_id": "e7eed592a079472c9cc7aabeaf28c0da",
       "version_major": 2,
       "version_minor": 0
      },
      "text/plain": [
       "(…)-00003-of-00004-d243063613e5a057.parquet:   0%|          | 0.00/248M [00:00<?, ?B/s]"
      ]
     },
     "metadata": {},
     "output_type": "display_data"
    },
    {
     "data": {
      "application/vnd.jupyter.widget-view+json": {
       "model_id": "c4cc666dd75941f18010248155c5651b",
       "version_major": 2,
       "version_minor": 0
      },
      "text/plain": [
       "(…)-00000-of-00001-869c898b519ad725.parquet:   0%|          | 0.00/9.99M [00:00<?, ?B/s]"
      ]
     },
     "metadata": {},
     "output_type": "display_data"
    },
    {
     "data": {
      "application/vnd.jupyter.widget-view+json": {
       "model_id": "6caa4060cb0e40f5bcfcc1996f7c9aaf",
       "version_major": 2,
       "version_minor": 0
      },
      "text/plain": [
       "Generating train split:   0%|          | 0/2119719 [00:00<?, ? examples/s]"
      ]
     },
     "metadata": {},
     "output_type": "display_data"
    },
    {
     "data": {
      "application/vnd.jupyter.widget-view+json": {
       "model_id": "a0e1fcdc902c4b4682665de6714be875",
       "version_major": 2,
       "version_minor": 0
      },
      "text/plain": [
       "Generating validation split:   0%|          | 0/21990 [00:00<?, ? examples/s]"
      ]
     },
     "metadata": {},
     "output_type": "display_data"
    }
   ],
   "source": [
    "from datasets import load_dataset\n",
    "stories = load_dataset(\"roneneldan/TinyStories\", split='train')"
   ]
  },
  {
   "cell_type": "code",
   "execution_count": 4,
   "metadata": {
    "execution": {
     "iopub.execute_input": "2025-05-20T20:10:41.970727Z",
     "iopub.status.busy": "2025-05-20T20:10:41.970092Z",
     "iopub.status.idle": "2025-05-20T20:10:46.886817Z",
     "shell.execute_reply": "2025-05-20T20:10:46.885724Z",
     "shell.execute_reply.started": "2025-05-20T20:10:41.970704Z"
    },
    "trusted": true
   },
   "outputs": [],
   "source": [
    "# raw_texts = [story['text'] for story in stories]\n",
    "raw_texts = stories['text'][:3]"
   ]
  },
  {
   "cell_type": "markdown",
   "metadata": {},
   "source": [
    "## Data Cleaning"
   ]
  },
  {
   "cell_type": "code",
   "execution_count": null,
   "metadata": {
    "execution": {
     "iopub.execute_input": "2025-05-20T20:10:54.878989Z",
     "iopub.status.busy": "2025-05-20T20:10:54.878718Z",
     "iopub.status.idle": "2025-05-20T20:10:54.883128Z",
     "shell.execute_reply": "2025-05-20T20:10:54.882360Z",
     "shell.execute_reply.started": "2025-05-20T20:10:54.878967Z"
    },
    "trusted": true
   },
   "outputs": [],
   "source": [
    "# remove non alphabitical character\n",
    "import re\n",
    "import json\n",
    "def clean_text(txt):\n",
    "    txt = re.sub(r\"[^a-zA-Z0-9.,!?'\\s]\", \"\", txt)\n",
    "    txt = re.sub(r\"\\s+\", \" \", txt)\n",
    "    return txt.strip().lower()"
   ]
  },
  {
   "cell_type": "code",
   "execution_count": 6,
   "metadata": {
    "execution": {
     "iopub.execute_input": "2025-05-20T20:11:00.744285Z",
     "iopub.status.busy": "2025-05-20T20:11:00.744011Z",
     "iopub.status.idle": "2025-05-20T20:11:00.749913Z",
     "shell.execute_reply": "2025-05-20T20:11:00.749161Z",
     "shell.execute_reply.started": "2025-05-20T20:11:00.744265Z"
    },
    "trusted": true
   },
   "outputs": [
    {
     "data": {
      "text/plain": [
       "\"one day, a little girl named lily found a needle in her room. she knew it was difficult to play with it because it was sharp. lily wanted to share the needle with her mom, so she could sew a button on her shirt. lily went to her mom and said, mom, i found this needle. can you share it with me and sew my shirt? her mom smiled and said, yes, lily, we can share the needle and fix your shirt. together, they shared the needle and sewed the button on lily's shirt. it was not difficult for them because they were sharing and helping each other. after they finished, lily thanked her mom for sharing the needle and fixing her shirt. they both felt happy because they had shared and worked together.\""
      ]
     },
     "execution_count": 6,
     "metadata": {},
     "output_type": "execute_result"
    }
   ],
   "source": [
    "texts = [clean_text(text) for text in raw_texts]\n",
    "\n",
    "texts[0]"
   ]
  },
  {
   "cell_type": "markdown",
   "metadata": {},
   "source": [
    "## Tokenization"
   ]
  },
  {
   "cell_type": "code",
   "execution_count": 7,
   "metadata": {
    "execution": {
     "iopub.execute_input": "2025-05-20T20:11:03.783220Z",
     "iopub.status.busy": "2025-05-20T20:11:03.782944Z",
     "iopub.status.idle": "2025-05-20T20:11:03.789019Z",
     "shell.execute_reply": "2025-05-20T20:11:03.788179Z",
     "shell.execute_reply.started": "2025-05-20T20:11:03.783199Z"
    },
    "trusted": true
   },
   "outputs": [],
   "source": [
    "class Tokenizer:\n",
    "    def __init__(self, text):\n",
    "        words = set()\n",
    "        for text in texts:\n",
    "            words.update(text.split())\n",
    "\n",
    "        self.vocab = {word: i for i, word in enumerate(sorted(words), start=0)}\n",
    "        self.inv_vocab = {i: word for word, i in self.vocab.items()}\n",
    "\n",
    "    def encode(self, text):\n",
    "        return [self.vocab[word] for word in text.split() if word in self.vocab]\n",
    "\n",
    "    def decode(self, ids):\n",
    "        return \" \".join([self.inv_vocab[i] for i in ids])"
   ]
  },
  {
   "cell_type": "code",
   "execution_count": 8,
   "metadata": {
    "execution": {
     "iopub.execute_input": "2025-05-20T20:11:18.755302Z",
     "iopub.status.busy": "2025-05-20T20:11:18.755025Z",
     "iopub.status.idle": "2025-05-20T20:11:18.761111Z",
     "shell.execute_reply": "2025-05-20T20:11:18.760367Z",
     "shell.execute_reply.started": "2025-05-20T20:11:18.755280Z"
    },
    "trusted": true
   },
   "outputs": [],
   "source": [
    "tokenizer = Tokenizer(texts)\n",
    "\n",
    "input_target_pairs = []\n",
    "\n",
    "for text in texts:\n",
    "    token_ids = tokenizer.encode(text)\n",
    "    if len(token_ids) < 2:\n",
    "        continue\n",
    "    for i in range(1, len(token_ids)):\n",
    "        input_seq = token_ids[:i]\n",
    "        target_seq = token_ids[1:i+1]\n",
    "        input_target_pairs.append((input_seq, target_seq))"
   ]
  },
  {
   "cell_type": "code",
   "execution_count": null,
   "metadata": {
    "trusted": true
   },
   "outputs": [],
   "source": [
    "# with open('tokenizer_vocab.json', 'w') as f:\n",
    "#     json.dump(tokenizer.vocab, f)\n",
    "\n",
    "# with open('stories_pairs.json', 'w') as  f:\n",
    "#     json.dump(input_target_pairs[:1000], f)"
   ]
  },
  {
   "cell_type": "code",
   "execution_count": 53,
   "metadata": {
    "execution": {
     "iopub.execute_input": "2025-05-20T22:05:42.389891Z",
     "iopub.status.busy": "2025-05-20T22:05:42.389634Z",
     "iopub.status.idle": "2025-05-20T22:05:42.394446Z",
     "shell.execute_reply": "2025-05-20T22:05:42.393871Z",
     "shell.execute_reply.started": "2025-05-20T22:05:42.389871Z"
    },
    "trusted": true
   },
   "outputs": [
    {
     "name": "stdout",
     "output_type": "stream",
     "text": [
      "[125, 31, 0, 98, 65, 111, 95, 58, 0, 114, 85, 77, 137, 147, 88, 86, 188, 33, 175, 130, 196, 86, 13, 86, 188, 146, 95, 185, 175, 143, 165, 114, 196, 77, 108, 153, 147, 29, 141, 0, 22, 123, 77, 148, 95, 192, 175, 77, 107, 7, 139, 108, 84, 58, 171, 115, 25, 199, 143, 86, 196, 106, 7, 141, 110, 149, 77, 107, 152, 7, 139, 198, 97, 191, 25, 143, 165, 114, 7, 55, 201, 148, 177, 169, 144, 165, 114, 7, 142, 165, 22, 123, 96, 148, 86, 188, 119, 33, 57, 166, 13, 169, 193, 145, 7, 76, 38, 126, 1, 169, 51, 95, 163, 77, 107, 57, 145, 165, 114, 7, 56, 77, 148, 169, 20, 45, 71, 13, 169, 69, 144, 7, 197, 178]\n"
     ]
    }
   ],
   "source": [
    "vocab_size = len(tokenizer.vocab)\n",
    "encoded = tokenizer.encode(texts[0])\n",
    "print(encoded)\n",
    "input_tensor = torch.tensor(encoded).unsqueeze(0)"
   ]
  },
  {
   "cell_type": "markdown",
   "metadata": {},
   "source": [
    "## Embedding"
   ]
  },
  {
   "cell_type": "markdown",
   "metadata": {},
   "source": [
    "#### B: Batch size\n",
    "#### T: sequence length / number of tokens\n",
    "#### D: size of embedding / hidden size\n",
    "#### H: number of attention heads\n",
    "#### d: head dimension"
   ]
  },
  {
   "cell_type": "code",
   "execution_count": 37,
   "metadata": {
    "execution": {
     "iopub.execute_input": "2025-05-20T21:43:45.521868Z",
     "iopub.status.busy": "2025-05-20T21:43:45.521355Z",
     "iopub.status.idle": "2025-05-20T21:43:45.525262Z",
     "shell.execute_reply": "2025-05-20T21:43:45.524616Z",
     "shell.execute_reply.started": "2025-05-20T21:43:45.521848Z"
    },
    "trusted": true
   },
   "outputs": [],
   "source": [
    "import torch\n",
    "import torch.nn as nn\n",
    "import torch.nn.functional as F"
   ]
  },
  {
   "cell_type": "code",
   "execution_count": 49,
   "metadata": {
    "execution": {
     "iopub.execute_input": "2025-05-20T22:03:02.370484Z",
     "iopub.status.busy": "2025-05-20T22:03:02.370170Z",
     "iopub.status.idle": "2025-05-20T22:03:02.374829Z",
     "shell.execute_reply": "2025-05-20T22:03:02.374098Z",
     "shell.execute_reply.started": "2025-05-20T22:03:02.370462Z"
    },
    "trusted": true
   },
   "outputs": [],
   "source": [
    "\n",
    "# config variables !! change later !!\n",
    "# embedding_dim % num_heads == 0\n",
    "class Config:\n",
    "    embedding_dim = 128 # embedding_dim == hidden_size == (D)\n",
    "    ff_embedding_dim = 512 # ff_embedding_dim = 4 × embedding_dim\n",
    "    max_seq_len = 200\n",
    "    dropout = 0.1\n",
    "    num_heads = 4\n",
    "    "
   ]
  },
  {
   "cell_type": "code",
   "execution_count": 40,
   "metadata": {
    "execution": {
     "iopub.execute_input": "2025-05-20T21:47:28.038718Z",
     "iopub.status.busy": "2025-05-20T21:47:28.038149Z",
     "iopub.status.idle": "2025-05-20T21:47:28.043354Z",
     "shell.execute_reply": "2025-05-20T21:47:28.042668Z",
     "shell.execute_reply.started": "2025-05-20T21:47:28.038695Z"
    },
    "jupyter": {
     "source_hidden": true
    },
    "trusted": true
   },
   "outputs": [],
   "source": [
    "class EmbeddingLayer(nn.Module):\n",
    "    def __init__(self, vocab_size, embedding_size, max_seq_len):\n",
    "        super().__init__()\n",
    "        self.token_embeddings = nn.Embedding(vocab_size, embedding_size)     # Lookup for token IDs\n",
    "        self.positional_embeddings = nn.Parameter(torch.zeros(1, max_seq_len, embedding_size))  # Learned positions\n",
    "        self.dropout = nn.Dropout(0.1)\n",
    "\n",
    "    def forward(self, x):\n",
    "        # x is (B, T) – batch of token IDs\n",
    "        tok_emb = self.token_embeddings(x)  # (B, T, D)\n",
    "        pos_emb = self.positional_embeddings[:, :x.size(1), :]  # (1, T, D) -> broadcasted\n",
    "        return self.dropout(tok_emb + pos_emb)  # (B, T, D)"
   ]
  },
  {
   "cell_type": "code",
   "execution_count": 44,
   "metadata": {
    "execution": {
     "iopub.execute_input": "2025-05-20T21:51:40.692546Z",
     "iopub.status.busy": "2025-05-20T21:51:40.692249Z",
     "iopub.status.idle": "2025-05-20T21:51:40.698939Z",
     "shell.execute_reply": "2025-05-20T21:51:40.698359Z",
     "shell.execute_reply.started": "2025-05-20T21:51:40.692529Z"
    },
    "trusted": true
   },
   "outputs": [
    {
     "name": "stdout",
     "output_type": "stream",
     "text": [
      "tensor([[[ 0.5538,  0.5812, -1.1987,  ...,  1.3827, -0.9495, -0.8262],\n",
      "         [-0.5012,  0.5226, -0.0000,  ...,  2.8496, -1.2216, -0.4581],\n",
      "         [ 0.2731,  1.6325, -0.6276,  ...,  0.0773,  0.4428,  1.5713],\n",
      "         ...,\n",
      "         [-0.1163, -0.0000,  1.1108,  ...,  0.9343,  0.8658,  0.0000],\n",
      "         [-0.0000,  0.5464, -0.7705,  ...,  0.2502, -0.0503,  1.6312],\n",
      "         [-0.7730,  0.0000,  0.0000,  ...,  0.0000,  0.9622,  0.5432]]],\n",
      "       grad_fn=<MulBackward0>)\n"
     ]
    }
   ],
   "source": [
    "embedding_model = EmbeddingLayer(vocab_size, embedding_dim, max_seq_len)\n",
    "embedded = embedding_model(input_tensor)\n",
    "print(embedded)"
   ]
  },
  {
   "cell_type": "markdown",
   "metadata": {},
   "source": [
    "## Decoder"
   ]
  },
  {
   "cell_type": "code",
   "execution_count": 50,
   "metadata": {
    "execution": {
     "iopub.execute_input": "2025-05-20T22:03:16.205018Z",
     "iopub.status.busy": "2025-05-20T22:03:16.204453Z",
     "iopub.status.idle": "2025-05-20T22:03:16.214707Z",
     "shell.execute_reply": "2025-05-20T22:03:16.213996Z",
     "shell.execute_reply.started": "2025-05-20T22:03:16.204996Z"
    },
    "trusted": true
   },
   "outputs": [],
   "source": [
    "class MultiHeadSelfAttention(nn.Module):\n",
    "    def __init__(self, hidden_size, num_heads, dropout=0.1):\n",
    "        super().__init__()\n",
    "        assert hidden_size % num_heads == 0\n",
    "        self.num_heads = num_heads\n",
    "        self.head_dim = hidden_size // num_heads\n",
    "\n",
    "        self.qkv_proj = nn.Linear(hidden_size, hidden_size * 3)\n",
    "        self.out_proj = nn.Linear(hidden_size, hidden_size)\n",
    "        self.dropout = nn.Dropout(dropout)\n",
    "\n",
    "    def forward(self, x, mask=None):\n",
    "        B, T, D = x.size()\n",
    "\n",
    "        qkv = self.qkv_proj(x)  # (B, T, 3D)\n",
    "        q, k, v = qkv.chunk(3, dim=-1)\n",
    "\n",
    "        def split_heads(tensor):\n",
    "            return tensor.view(B, T, self.num_heads, self.head_dim).transpose(1, 2)  # (B, H, T, d)\n",
    "\n",
    "        q, k, v = split_heads(q), split_heads(k), split_heads(v)\n",
    "\n",
    "        # computing attention\n",
    "        # step 1: q * k matrix multiplication\n",
    "        # step 2: scaling\n",
    "        scores = (q @ k.transpose(-2, -1)) / (self.head_dim ** 0.5)\n",
    "        \n",
    "        # step 3: masking future tokens\n",
    "        if mask is not None:\n",
    "            scores = scores.masked_fill(mask == 0, float('-inf'))\n",
    "        \n",
    "        # step 4: apply softmax function to normalize the compatibility matrix\n",
    "        # giving us the attention weights\n",
    "        attn = F.softmax(scores, dim=-1)\n",
    "        attn = self.dropout(attn)\n",
    "\n",
    "        # step 5: computing (output / context) matrix\n",
    "        out = attn @ v  # (B, H, T, d)\n",
    "        out = out.transpose(1, 2).contiguous().view(B, T, D)\n",
    "        return self.out_proj(out)\n",
    "\n",
    "class FeedForward(nn.Module):\n",
    "    def __init__(self, hidden_size, ff_hidden_size, dropout=0.1):\n",
    "        super().__init__()\n",
    "        self.ff = nn.Sequential(\n",
    "            nn.Linear(hidden_size, ff_hidden_size),\n",
    "            nn.GELU(), # Gaussian Error Linear Units\n",
    "            nn.Linear(ff_hidden_size, hidden_size),\n",
    "            nn.Dropout(dropout)\n",
    "        )\n",
    "\n",
    "    def forward(self, x):\n",
    "        return self.ff(x)\n",
    "\n",
    "class DecoderLayer(nn.Module):\n",
    "    def __init__(self, config):\n",
    "        super().__init__()\n",
    "        self.attn = MultiHeadSelfAttention(config.embedding_dim, config.num_heads, config.dropout)\n",
    "        self.ffn = FeedForward(config.embedding_dim, config.ff_embedding_dim, config.dropout)\n",
    "\n",
    "        self.ln1 = nn.LayerNorm(config.embedding_dim)\n",
    "        self.ln2 = nn.LayerNorm(config.embedding_dim)\n",
    "\n",
    "    def forward(self, x, mask=None):\n",
    "        # Self-attention + residual\n",
    "        attn_out = self.attn(self.ln1(x), mask)\n",
    "        x = x + attn_out\n",
    "\n",
    "        # Feed-forward + residual\n",
    "        ffn_out = self.ffn(self.ln2(x))\n",
    "        x = x + ffn_out\n",
    "\n",
    "        return x\n"
   ]
  },
  {
   "cell_type": "code",
   "execution_count": 51,
   "metadata": {
    "execution": {
     "iopub.execute_input": "2025-05-20T22:03:32.212817Z",
     "iopub.status.busy": "2025-05-20T22:03:32.212529Z",
     "iopub.status.idle": "2025-05-20T22:03:32.384348Z",
     "shell.execute_reply": "2025-05-20T22:03:32.383371Z",
     "shell.execute_reply.started": "2025-05-20T22:03:32.212795Z"
    },
    "trusted": true
   },
   "outputs": [
    {
     "name": "stdout",
     "output_type": "stream",
     "text": [
      "tensor([[[ 0.4035,  0.3175, -1.1815,  ...,  1.3377, -0.7903, -0.9292],\n",
      "         [-0.4821,  0.9288, -0.2228,  ...,  2.9428, -1.2859, -0.5694],\n",
      "         [ 0.2451,  1.7981, -0.7396,  ...,  0.0590,  0.7202,  1.1080],\n",
      "         ...,\n",
      "         [-0.2017,  0.2822,  1.4440,  ...,  0.6536,  0.7932,  0.3036],\n",
      "         [-0.2861,  0.5808, -0.7646,  ...,  0.6992, -0.0662,  1.5447],\n",
      "         [-0.7651,  0.0931, -0.2602,  ..., -0.0639,  0.9821,  0.6115]]],\n",
      "       grad_fn=<AddBackward0>)\n"
     ]
    }
   ],
   "source": [
    "config = Config()\n",
    "decoder = DecoderLayer(config)\n",
    "decoded = decoder(embedded)\n",
    "print(decoded)"
   ]
  }
 ],
 "metadata": {
  "kaggle": {
   "accelerator": "nvidiaTeslaT4",
   "dataSources": [],
   "dockerImageVersionId": 31041,
   "isGpuEnabled": true,
   "isInternetEnabled": true,
   "language": "python",
   "sourceType": "notebook"
  },
  "kernelspec": {
   "display_name": "Python 3",
   "language": "python",
   "name": "python3"
  },
  "language_info": {
   "codemirror_mode": {
    "name": "ipython",
    "version": 3
   },
   "file_extension": ".py",
   "mimetype": "text/x-python",
   "name": "python",
   "nbconvert_exporter": "python",
   "pygments_lexer": "ipython3",
   "version": "3.11.11"
  }
 },
 "nbformat": 4,
 "nbformat_minor": 4
}
