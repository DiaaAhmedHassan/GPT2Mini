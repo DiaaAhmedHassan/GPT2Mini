{
 "cells": [
  {
   "cell_type": "markdown",
   "id": "440308ee",
   "metadata": {},
   "source": [
    "## Load vocab"
   ]
  },
  {
   "cell_type": "code",
   "execution_count": 6,
   "id": "ad570624",
   "metadata": {},
   "outputs": [
    {
     "name": "stdout",
     "output_type": "stream",
     "text": [
      "<class 'dict'>\n",
      "[('<s>', 0), ('<pad>', 1), ('</s>', 2), ('<unk>', 3), ('<mask>', 4), ('!', 5), ('\"', 6), ('#', 7), ('$', 8), ('%', 9)]\n"
     ]
    }
   ],
   "source": [
    "import json\n",
    "with open(\"../check_points/vocab.json\") as f:\n",
    "    word2idx = json.load(f)\n",
    "    print(type(word2idx))\n",
    "    print(list(word2idx.items())[:10])\n",
    "\n",
    "idx2word = {int(v): k for k, v in word2idx.items()}\n",
    "# pad_id = word2idx[\"<pad>\"]"
   ]
  },
  {
   "cell_type": "code",
   "execution_count": 5,
   "id": "27d3a734",
   "metadata": {},
   "outputs": [
    {
     "name": "stdout",
     "output_type": "stream",
     "text": [
      "11902\n"
     ]
    }
   ],
   "source": [
    "print(word2idx[\"dog\"])"
   ]
  },
  {
   "cell_type": "markdown",
   "id": "b1f33bdd",
   "metadata": {},
   "source": [
    "## Testing Tokenization"
   ]
  },
  {
   "cell_type": "code",
   "execution_count": 7,
   "id": "f48819df",
   "metadata": {},
   "outputs": [
    {
     "data": {
      "text/plain": [
       "[11902]"
      ]
     },
     "execution_count": 7,
     "metadata": {},
     "output_type": "execute_result"
    }
   ],
   "source": [
    "import sys\n",
    "sys.dont_write_bytecode = True # disabling __pycache__\n",
    "sys.path.insert(0, '../')\n",
    "from utils import Tokenizer\n",
    "# from utils import clean_text\n",
    "\n",
    "tokenizer = Tokenizer()\n",
    "tokenizer.upload_vocab(word2idx)\n",
    "tokenizer.encode(\"dog\")"
   ]
  },
  {
   "cell_type": "code",
   "execution_count": null,
   "id": "c1d2780c",
   "metadata": {},
   "outputs": [],
   "source": [
    "# ------ generate input target pairs ----- ?"
   ]
  },
  {
   "cell_type": "markdown",
   "id": "43a74557",
   "metadata": {},
   "source": [
    "## Testing the Model"
   ]
  },
  {
   "cell_type": "code",
   "execution_count": 15,
   "id": "a2c22ed9",
   "metadata": {},
   "outputs": [],
   "source": [
    "# embedding_dim == hidden_size == (D)\n",
    "# embedding_dim % num_heads == 0\n",
    "embedding_dim = 128\n",
    "\n",
    "ff_embedding_dim = 512 # ff_embedding_dim = 4 × embedding_dim\n",
    "max_seq_len = 200\n",
    "dropout = 0.1\n",
    "num_heads = 4\n",
    "vocab_size = tokenizer.get_vocab_size()\n",
    "num_layers = 4"
   ]
  },
  {
   "cell_type": "code",
   "execution_count": 16,
   "id": "6e73f80c",
   "metadata": {},
   "outputs": [
    {
     "name": "stdout",
     "output_type": "stream",
     "text": [
      "19716\n"
     ]
    }
   ],
   "source": [
    "print(vocab_size)"
   ]
  },
  {
   "cell_type": "code",
   "execution_count": null,
   "id": "1c03d0b1",
   "metadata": {},
   "outputs": [],
   "source": [
    "sys.path.insert(0, '../model/')\n",
    "from gpt2 import GPT2Model\n",
    "import torch\n",
    "import torch.nn as nn\n",
    "\n",
    "encoded = tokenizer.encode(\"dog\")\n",
    "input_tensor = torch.tensor(encoded).unsqueeze(0)\n",
    "\n",
    "model = GPT2Model(vocab_size,embedding_dim,ff_embedding_dim,max_seq_len,num_heads,num_layers,dropout = 0.1)\n",
    "\n",
    "# for each position in the sequence, you get a distribution over all vocab tokens.\n",
    "logits = model(input_tensor)  # (B, T, V)\n",
    "\n",
    "# Shift targets for next-token prediction\n",
    "# shift_logits = logits[:, :-1, :].contiguous()\n",
    "# shift_labels = input_tensor[:, 1:].contiguous()\n",
    "\n",
    "# Flatten for CrossEntropyLoss\n",
    "# loss_fn = nn.CrossEntropyLoss()\n",
    "# loss = loss_fn(\n",
    "#     shift_logits.view(-1, vocab_size),\n",
    "#     shift_labels.view(-1)\n",
    "# )"
   ]
  },
  {
   "cell_type": "markdown",
   "id": "a8b329a5",
   "metadata": {},
   "source": [
    "## Loading Data"
   ]
  },
  {
   "cell_type": "code",
   "execution_count": null,
   "id": "8306b2f5",
   "metadata": {},
   "outputs": [],
   "source": [
    "from torch.utils.data import DataLoader\n",
    "from data.dataset import TextDataset\n",
    "\n",
    "# Assume `tokenized_texts` is a list of word-index lists\n",
    "dataset = TextDataset(tokenized_texts, seq_len=32)\n",
    "dataloader = DataLoader(dataset, batch_size=16, shuffle=True)"
   ]
  },
  {
   "cell_type": "markdown",
   "id": "5878e9d5",
   "metadata": {},
   "source": [
    "## Training the Model"
   ]
  },
  {
   "cell_type": "code",
   "execution_count": null,
   "id": "ae2a2761",
   "metadata": {},
   "outputs": [],
   "source": [
    "# embedding_dim == hidden_size == (D)\n",
    "# embedding_dim % num_heads == 0\n",
    "embedding_dim = 128\n",
    "\n",
    "ff_embedding_dim = 512 # ff_embedding_dim = 4 × embedding_dim\n",
    "max_seq_len = 200\n",
    "dropout = 0.1\n",
    "num_heads = 4\n",
    "vocab_size = tokenizer.get_vocab_size()\n",
    "num_layers = 4\n",
    "\n",
    "epochs = 3\n",
    "device = 'cuda' if torch.cuda.is_available() else 'cpu'\n",
    "batch_size = 16"
   ]
  },
  {
   "cell_type": "code",
   "execution_count": null,
   "id": "227f32e1",
   "metadata": {},
   "outputs": [],
   "source": [
    "model = GPT2Model(\n",
    "        vocab_size,\n",
    "        embedding_dim,\n",
    "        ff_embedding_dim,max_seq_len\n",
    "        ,num_heads,\n",
    "        num_layers,\n",
    "        dropout = 0.1\n",
    "    ).to(device)\n",
    "\n",
    "criterion = nn.CrossEntropyLoss()\n",
    "optimizer = torch.optim.AdamW(model.parameters(), lr=5e-4)\n",
    "\n",
    "model.train()\n",
    "for epoch in range(epochs):\n",
    "    total_loss = 0\n",
    "    for batch_idx, (x, y) in enumerate(dataloader):\n",
    "        x, y = x.to(device), y.to(device)  # x: [B, T], y: [B, T]\n",
    "\n",
    "        logits = model(x)  # [B, T, vocab_size]\n",
    "        logits = logits.view(-1, vocab_size)   # [B*T, V]\n",
    "        y = y.view(-1)                                # [B*T]\n",
    "\n",
    "        loss = criterion(logits, y)\n",
    "\n",
    "        optimizer.zero_grad()\n",
    "        loss.backward()\n",
    "        optimizer.step()\n",
    "        # scheduler.step()  # if used\n",
    "\n",
    "        total_loss += loss.item()\n",
    "\n",
    "        if batch_idx % 100 == 0:\n",
    "            print(f\"Epoch {epoch+1}, Step {batch_idx}, Loss: {loss.item():.4f}\")\n",
    "\n",
    "    avg_loss = total_loss / len(dataloader)\n",
    "    print(f\"Epoch {epoch+1} completed. Avg Loss: {avg_loss:.4f}\")\n",
    "\n",
    "# Save model\n",
    "torch.save(model.state_dict(), \"gpt2_tiny.pth\")\n"
   ]
  },
  {
   "cell_type": "markdown",
   "id": "72624f35",
   "metadata": {},
   "source": [
    "## Generate Text"
   ]
  },
  {
   "cell_type": "code",
   "execution_count": null,
   "id": "edeb67ce",
   "metadata": {},
   "outputs": [],
   "source": [
    "# Load model\n",
    "# GPT2Config.vocab_size = len(word2idx)\n",
    "# model = GPT2Model(GPT2Config())\n",
    "# model.load_state_dict(torch.load(\"gpt2_tiny.pth\", map_location=\"cpu\"))\n",
    "# model.eval()"
   ]
  },
  {
   "cell_type": "code",
   "execution_count": null,
   "id": "945b2634",
   "metadata": {},
   "outputs": [],
   "source": [
    "# initialize tokenizer with texts\n",
    "\n",
    "def generate_text(prompt, max_new_tokens=50):\n",
    "    input_ids = tokenizer.encode(prompt)\n",
    "    input_tensor = torch.tensor([input_ids], dtype=torch.long)  # [1, T]\n",
    "    \n",
    "    with torch.no_grad():\n",
    "        for _ in range(max_new_tokens):\n",
    "            logits = model(input_tensor)  # [1, T, vocab]\n",
    "            next_token_logits = logits[:, -1, :]  # last position\n",
    "            next_token = torch.argmax(next_token_logits, dim=-1).unsqueeze(0)  # [1, 1]\n",
    "            input_tensor = torch.cat([input_tensor, next_token], dim=1)  # grow the sequence\n",
    "\n",
    "    return tokenizer.decode(input_tensor[0].tolist())\n"
   ]
  },
  {
   "cell_type": "code",
   "execution_count": null,
   "id": "60b63b0e",
   "metadata": {},
   "outputs": [],
   "source": [
    "prompt = \"Once upon a time\"\n",
    "print(generate_text(prompt, max_new_tokens=30))"
   ]
  }
 ],
 "metadata": {
  "kernelspec": {
   "display_name": "myenv",
   "language": "python",
   "name": "python3"
  },
  "language_info": {
   "codemirror_mode": {
    "name": "ipython",
    "version": 3
   },
   "file_extension": ".py",
   "mimetype": "text/x-python",
   "name": "python",
   "nbconvert_exporter": "python",
   "pygments_lexer": "ipython3",
   "version": "3.13.3"
  }
 },
 "nbformat": 4,
 "nbformat_minor": 5
}
