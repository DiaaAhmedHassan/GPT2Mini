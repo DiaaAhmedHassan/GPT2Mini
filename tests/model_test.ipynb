{
 "cells": [
  {
   "cell_type": "markdown",
   "id": "440308ee",
   "metadata": {},
   "source": [
    "## Load vocab"
   ]
  },
  {
   "cell_type": "code",
   "execution_count": 2,
   "id": "ad570624",
   "metadata": {},
   "outputs": [
    {
     "name": "stdout",
     "output_type": "stream",
     "text": [
      "<class 'dict'>\n",
      "[(\"'\", 0), (\"''all\", 1), (\"''but\", 2), (\"''don't\", 3), (\"''fly\", 4)]\n"
     ]
    }
   ],
   "source": [
    "import json\n",
    "with open(\"../check_points/tokenizer_vocab.json\") as f:\n",
    "    word2idx = json.load(f)\n",
    "    print(type(word2idx))\n",
    "    print(list(word2idx.items())[:5])\n",
    "\n",
    "idx2word = {int(v): k for k, v in word2idx.items()}\n",
    "# pad_id = word2idx[\"<pad>\"]"
   ]
  },
  {
   "cell_type": "code",
   "execution_count": 3,
   "id": "27d3a734",
   "metadata": {},
   "outputs": [
    {
     "name": "stdout",
     "output_type": "stream",
     "text": [
      "9383\n"
     ]
    }
   ],
   "source": [
    "print(word2idx[\"doll\"])"
   ]
  },
  {
   "cell_type": "markdown",
   "id": "b1f33bdd",
   "metadata": {},
   "source": [
    "## Tokenization"
   ]
  },
  {
   "cell_type": "code",
   "execution_count": null,
   "id": "f48819df",
   "metadata": {},
   "outputs": [
    {
     "data": {
      "text/plain": [
       "[9383]"
      ]
     },
     "execution_count": 4,
     "metadata": {},
     "output_type": "execute_result"
    }
   ],
   "source": [
    "import sys\n",
    "sys.dont_write_bytecode = True # disabling __pycache__\n",
    "sys.path.insert(0, '../')\n",
    "from utils import Tokenizer\n",
    "# from utils import clean_text\n",
    "\n",
    "tokenizer = Tokenizer()\n",
    "tokenizer.upload_vocab(word2idx)\n",
    "tokenizer.encode(\"doll\")"
   ]
  },
  {
   "cell_type": "code",
   "execution_count": null,
   "id": "c1d2780c",
   "metadata": {},
   "outputs": [],
   "source": [
    "# ------ generate input target pairs ----- ?"
   ]
  },
  {
   "cell_type": "markdown",
   "id": "43a74557",
   "metadata": {},
   "source": [
    "## Embedding"
   ]
  },
  {
   "cell_type": "code",
   "execution_count": null,
   "id": "a2c22ed9",
   "metadata": {},
   "outputs": [],
   "source": [
    "# embedding_dim == hidden_size == (D)\n",
    "# embedding_dim % num_heads == 0\n",
    "embedding_dim = 128\n",
    "\n",
    "ff_embedding_dim = 512 # ff_embedding_dim = 4 × embedding_dim\n",
    "max_seq_len = 200\n",
    "dropout = 0.1\n",
    "num_heads = 4\n",
    "vocab_size = tokenizer.get_vocab_size()\n",
    "num_layers = 4"
   ]
  },
  {
   "cell_type": "code",
   "execution_count": null,
   "id": "1c03d0b1",
   "metadata": {},
   "outputs": [],
   "source": [
    "sys.path.insert(0, '../model/')\n",
    "from gpt2 import GPT2Model\n",
    "\n",
    "# ------- use masking for decoder -------- ?\n",
    "\n",
    "model = GPT2Model(vocab_size,embedding_dim,ff_embedding_dim,max_seq_len,num_heads,num_layers,dropout = 0.1)"
   ]
  }
 ],
 "metadata": {
  "kernelspec": {
   "display_name": "myenv",
   "language": "python",
   "name": "python3"
  },
  "language_info": {
   "codemirror_mode": {
    "name": "ipython",
    "version": 3
   },
   "file_extension": ".py",
   "mimetype": "text/x-python",
   "name": "python",
   "nbconvert_exporter": "python",
   "pygments_lexer": "ipython3",
   "version": "3.13.3"
  }
 },
 "nbformat": 4,
 "nbformat_minor": 5
}
